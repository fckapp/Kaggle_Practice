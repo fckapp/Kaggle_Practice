{
 "cells": [
  {
   "cell_type": "markdown",
   "id": "a547b429-05f6-4c50-8aaa-4e2180628a8a",
   "metadata": {},
   "source": [
    "# 타이타닉 생존자 예측 \n",
    " - PassengerId : 승객 id\n",
    " - Survived : 생존 유무 0=사망, 1=생존\n",
    " - Pclass : 객실 클래스 1=상위, 2=중간, 3=하위\n",
    " - Name : 승객 이름\n",
    " - Age : 나이\n",
    " - Sex : 성별 - male=남성, female=여성\n",
    " - SibSp :\n",
    " - Parch :\n",
    " - Ticket : 티켓 번호\n",
    " - Fare : 표 가격\n",
    " - Cabin : 선실 번호(방 이름)\n",
    " - Embarked : 탑승 구역 C = Cherbourg, Q = Queenstown, S = Southampton"
   ]
  },
  {
   "cell_type": "markdown",
   "id": "c26908e8-ca4f-4513-bd58-fecac64d4e15",
   "metadata": {},
   "source": [
    "##\n",
    "라이브러리 호출"
   ]
  },
  {
   "cell_type": "code",
   "execution_count": 145,
   "id": "413015ce-45c0-43e2-99e6-7655498455da",
   "metadata": {},
   "outputs": [],
   "source": [
    "import pandas as pd\n",
    "import numpy as np\n",
    "import matplotlib.pyplot as plt\n",
    "import seaborn as sns\n",
    "import warnings\n",
    "warnings.filterwarnings('ignore')\n",
    "\n",
    "#표준화 라이브러리\n",
    "from sklearn.preprocessing import MinMaxScaler\n"
   ]
  },
  {
   "cell_type": "markdown",
   "id": "698cb61b-9ef0-441d-9949-b0f7b1862529",
   "metadata": {},
   "source": [
    "## \n",
    "타이타닉 데이터셋 호출"
   ]
  },
  {
   "cell_type": "code",
   "execution_count": 87,
   "id": "6502b837-4195-4a74-97e8-50c6e6480de4",
   "metadata": {},
   "outputs": [
    {
     "name": "stdout",
     "output_type": "stream",
     "text": [
      "   PassengerId  Survived  Pclass  \\\n",
      "0            1         0       3   \n",
      "1            2         1       1   \n",
      "2            3         1       3   \n",
      "3            4         1       1   \n",
      "4            5         0       3   \n",
      "\n",
      "                                                Name     Sex   Age  SibSp  \\\n",
      "0                            Braund, Mr. Owen Harris    male  22.0      1   \n",
      "1  Cumings, Mrs. John Bradley (Florence Briggs Th...  female  38.0      1   \n",
      "2                             Heikkinen, Miss. Laina  female  26.0      0   \n",
      "3       Futrelle, Mrs. Jacques Heath (Lily May Peel)  female  35.0      1   \n",
      "4                           Allen, Mr. William Henry    male  35.0      0   \n",
      "\n",
      "   Parch            Ticket     Fare Cabin Embarked  \n",
      "0      0         A/5 21171   7.2500   NaN        S  \n",
      "1      0          PC 17599  71.2833   C85        C  \n",
      "2      0  STON/O2. 3101282   7.9250   NaN        S  \n",
      "3      0            113803  53.1000  C123        S  \n",
      "4      0            373450   8.0500   NaN        S  \n",
      "\n",
      "(891, 12)\n"
     ]
    }
   ],
   "source": [
    "train_data = pd.read_csv('train.csv')\n",
    "print(train_data.head())\n",
    "print()\n",
    "print(train_data.shape)"
   ]
  },
  {
   "cell_type": "code",
   "execution_count": 88,
   "id": "3b99deb0-39a7-4f61-b562-be8fae65a557",
   "metadata": {},
   "outputs": [
    {
     "name": "stdout",
     "output_type": "stream",
     "text": [
      "   PassengerId  Pclass                                          Name     Sex  \\\n",
      "0          892       3                              Kelly, Mr. James    male   \n",
      "1          893       3              Wilkes, Mrs. James (Ellen Needs)  female   \n",
      "2          894       2                     Myles, Mr. Thomas Francis    male   \n",
      "3          895       3                              Wirz, Mr. Albert    male   \n",
      "4          896       3  Hirvonen, Mrs. Alexander (Helga E Lindqvist)  female   \n",
      "\n",
      "    Age  SibSp  Parch   Ticket     Fare Cabin Embarked  \n",
      "0  34.5      0      0   330911   7.8292   NaN        Q  \n",
      "1  47.0      1      0   363272   7.0000   NaN        S  \n",
      "2  62.0      0      0   240276   9.6875   NaN        Q  \n",
      "3  27.0      0      0   315154   8.6625   NaN        S  \n",
      "4  22.0      1      1  3101298  12.2875   NaN        S  \n",
      "\n",
      "(418, 11)\n"
     ]
    }
   ],
   "source": [
    "test_data = pd.read_csv('test.csv')\n",
    "print(test_data.head())\n",
    "print()\n",
    "print(test_data.shape)"
   ]
  },
  {
   "cell_type": "markdown",
   "id": "f7f5db47-4ba2-4863-a873-ca2ee4efbcc4",
   "metadata": {},
   "source": [
    "##\n",
    "# 1. EDA \n",
    " - 탐색적 데이터 분석 : 실질적인 데이터분석을 하기 전 데이터의 유형을 이해 하고자 하는 단계 데이터를 시각화 하여 특징들을 살펴보자"
   ]
  },
  {
   "cell_type": "code",
   "execution_count": 89,
   "id": "5f241be4-bb5a-4eab-9539-7ddc6dca2357",
   "metadata": {},
   "outputs": [
    {
     "data": {
      "text/html": [
       "<div>\n",
       "<style scoped>\n",
       "    .dataframe tbody tr th:only-of-type {\n",
       "        vertical-align: middle;\n",
       "    }\n",
       "\n",
       "    .dataframe tbody tr th {\n",
       "        vertical-align: top;\n",
       "    }\n",
       "\n",
       "    .dataframe thead th {\n",
       "        text-align: right;\n",
       "    }\n",
       "</style>\n",
       "<table border=\"1\" class=\"dataframe\">\n",
       "  <thead>\n",
       "    <tr style=\"text-align: right;\">\n",
       "      <th>Sex</th>\n",
       "      <th>female</th>\n",
       "      <th>male</th>\n",
       "    </tr>\n",
       "  </thead>\n",
       "  <tbody>\n",
       "    <tr>\n",
       "      <th>Survived</th>\n",
       "      <td>233</td>\n",
       "      <td>109</td>\n",
       "    </tr>\n",
       "    <tr>\n",
       "      <th>Dead</th>\n",
       "      <td>81</td>\n",
       "      <td>468</td>\n",
       "    </tr>\n",
       "  </tbody>\n",
       "</table>\n",
       "</div>"
      ],
      "text/plain": [
       "Sex       female  male\n",
       "Survived     233   109\n",
       "Dead          81   468"
      ]
     },
     "execution_count": 89,
     "metadata": {},
     "output_type": "execute_result"
    },
    {
     "data": {
      "image/png": "[encoded data removed]",
      "text/plain": [
       "<Figure size 640x480 with 1 Axes>"
      ]
     },
     "metadata": {},
     "output_type": "display_data"
    }
   ],
   "source": [
    "# Sex(성별) : 남성, 여성 별 생존률 시각화\n",
    "def bar_chart(feature):\n",
    "    survived = train_data[train_data['Survived'] == 1][feature].value_counts()\n",
    "    dead = train_data[train_data['Survived'] == 0][feature].value_counts()\n",
    "    df = pd.DataFrame([survived, dead])\n",
    "    df.index = ['Survived', 'Dead']\n",
    "    df.plot(kind='bar',stacked=True , subplots=False, )\n",
    "    return df\n",
    "\n",
    "def rate_Survived(Survived) :\n",
    "    women = train_data[train_data['Sex']=='female'][Survived]\n",
    "    rate_women = sum(women) / len(women)\n",
    "    men = train_data[train_data['Sex'] == 'male'][Survived]\n",
    "    rate_men = sum(men) / len(men)\n",
    "    print('여성의 생존률 : {0:.2f}%, 남성의 생존률 : {1:.2f}%'.format(rate_women * 100, rate_men *100))\n",
    "    \n",
    "bar_chart('Sex')"
   ]
  },
  {
   "cell_type": "markdown",
   "id": "7c732ffc-e9cd-467c-9466-374c001d8182",
   "metadata": {},
   "source": [
    "- 여성에 경우 70% 이상의 생존률\n",
    "- 남성에 경우 20% 미만의 생존률"
   ]
  },
  {
   "cell_type": "code",
   "execution_count": 90,
   "id": "ec72f9d5-1d9a-4a23-8d8b-cd98ce6a23e9",
   "metadata": {},
   "outputs": [
    {
     "name": "stdout",
     "output_type": "stream",
     "text": [
      "Pclass_1의 생존률 0.63%, Pclass_2의 생존률 0.47%, Pclass_3의 생존률 0.24%\n"
     ]
    },
    {
     "data": {
      "image/png": "[encoded data removed]",
      "text/plain": [
       "<Figure size 640x480 with 1 Axes>"
      ]
     },
     "metadata": {},
     "output_type": "display_data"
    }
   ],
   "source": [
    "# 객실 등급별 생존확률 시각화\n",
    "\n",
    "pclass = train_data['Pclass'].value_counts()\n",
    "pclass_Survived = train_data[train_data['Survived'] == 1]['Pclass'].value_counts()\n",
    "pclass_Dead = train_data[train_data['Survived'] == 0]['Pclass'].value_counts()\n",
    "# 객실 등급별 생존확률\n",
    "pclass_1 = pclass_Survived.iloc[0] / pclass.iloc[1]\n",
    "pclass_2 = pclass_Survived.iloc[2] / pclass.iloc[2]\n",
    "pclass_3 = pclass_Survived.iloc[1] / pclass.iloc[0]\n",
    "df = pd.DataFrame([pclass_1, pclass_2, pclass_3])\n",
    "df.index = ['pclass_1', 'pcalss_2', 'pclass_3']\n",
    "df.plot(kind='bar')\n",
    "\n",
    "\n",
    "print('Pclass_1의 생존률 {0:.2f}%, Pclass_2의 생존률 {1:.2f}%, Pclass_3의 생존률 {2:.2f}%'.format(pclass_1, pclass_2, pclass_3))"
   ]
  },
  {
   "cell_type": "markdown",
   "id": "0ba934a5-7621-41af-91f0-45b890ddaae3",
   "metadata": {},
   "source": [
    " - 귀무가설 : 객실에 등급이 높을수록 생존률이 높을 것이다.\n",
    " - 대립가설 : 생존률은 객실 등급에 상관이 없을 것이다.\n",
    " - 결론 : 귀무가설을 채택하고 대립가설을 기각한다.\n",
    "\n",
    " - 객실 등급별 생존확률\n",
    " - 가장 많이 생존한 객실 등급은 p1 -> p2 -> p3 인것을 확인 할수 있다.\n",
    " - 데이터를 시각화 하여 분석 후 결과는 등급이 높을수록 생존률이 높은 것을 알수있다."
   ]
  },
  {
   "cell_type": "code",
   "execution_count": 91,
   "id": "b2c18686-dbf3-4e92-933a-b09c39951902",
   "metadata": {},
   "outputs": [
    {
     "data": {
      "image/png": "[encoded data removed]",
      "text/plain": [
       "<Figure size 1000x500 with 1 Axes>"
      ]
     },
     "metadata": {},
     "output_type": "display_data"
    }
   ],
   "source": [
    "# 나이별 생존여부\n",
    "plt.figure(figsize=(10, 5))\n",
    "plt.title('Each Age Survived')\n",
    "sns.stripplot(x='Survived', y='Age', data=train_data, jitter=True)\n",
    "plt.show()"
   ]
  },
  {
   "cell_type": "markdown",
   "id": "58845547-a6ec-417b-8bf9-53391dda8eb2",
   "metadata": {},
   "source": [
    "##\n",
    "# 2. 데이터 전처리\n",
    " - 정재 : 결측값, 이상값 들을 삭제 및 알고리즘을 통해 대치 하는 것\n",
    " - 변수 선택 법 : 차원축소, 변수선택, 파생변수 생성, 불필요 변수 삭제 등\n",
    " - 전처리를 하는 이유? : 데이터들 정재하지 않을 경우 ML 예측률이 저하되기 때문 "
   ]
  },
  {
   "cell_type": "code",
   "execution_count": 96,
   "id": "80b28096-8625-4da5-944b-1f430fd32d6c",
   "metadata": {},
   "outputs": [
    {
     "name": "stdout",
     "output_type": "stream",
     "text": [
      "<class 'pandas.core.frame.DataFrame'>\n",
      "RangeIndex: 891 entries, 0 to 890\n",
      "Data columns (total 12 columns):\n",
      " #   Column       Non-Null Count  Dtype  \n",
      "---  ------       --------------  -----  \n",
      " 0   PassengerId  891 non-null    int64  \n",
      " 1   Survived     891 non-null    int64  \n",
      " 2   Pclass       891 non-null    int64  \n",
      " 3   Name         891 non-null    object \n",
      " 4   Sex          891 non-null    object \n",
      " 5   Age          714 non-null    float64\n",
      " 6   SibSp        891 non-null    int64  \n",
      " 7   Parch        891 non-null    int64  \n",
      " 8   Ticket       891 non-null    object \n",
      " 9   Fare         891 non-null    float64\n",
      " 10  Cabin        204 non-null    object \n",
      " 11  Embarked     889 non-null    object \n",
      "dtypes: float64(2), int64(5), object(5)\n",
      "memory usage: 83.7+ KB\n"
     ]
    }
   ],
   "source": [
    "# 데이터 정보 확인\n",
    "train_data.info()"
   ]
  },
  {
   "cell_type": "markdown",
   "id": "416550ba-5090-4efb-a129-c95756b62a9c",
   "metadata": {},
   "source": [
    " - 이상값, 결측값을 확인 후 대치 방법을 선택하여 대치\n",
    " - age, cabin, embarked의 결측값이 있는 것으로 판단됨\n",
    " - age 대치 : age는 평균 나이 값으로 대치를 할 예정\n",
    " - cabin 대치 : cabin은 생존률 예측에는 불필요한 feature로 판단 단순삭제 진행\n",
    " - embarked 대치 : embarked 또한 생존률 예측에는 불필요한 feature로 판단 단순삭제 진행"
   ]
  },
  {
   "cell_type": "markdown",
   "id": "a75622c0-b78a-487c-adbd-37406ae2c1bd",
   "metadata": {},
   "source": [
    "##\n",
    "결측값 확인 및 정재"
   ]
  },
  {
   "cell_type": "code",
   "execution_count": 97,
   "id": "307d2433-ee07-46e4-bc79-f1219623db50",
   "metadata": {},
   "outputs": [
    {
     "name": "stdout",
     "output_type": "stream",
     "text": [
      "학습용 데이터 null 값: \n",
      " PassengerId      0\n",
      "Survived         0\n",
      "Pclass           0\n",
      "Name             0\n",
      "Sex              0\n",
      "Age            177\n",
      "SibSp            0\n",
      "Parch            0\n",
      "Ticket           0\n",
      "Fare             0\n",
      "Cabin          687\n",
      "Embarked         2\n",
      "dtype: int64\n",
      "\n",
      "데스트용 데이터 null 값 :\n",
      " PassengerId      0\n",
      "Pclass           0\n",
      "Name             0\n",
      "Sex              0\n",
      "Age             86\n",
      "SibSp            0\n",
      "Parch            0\n",
      "Ticket           0\n",
      "Fare             1\n",
      "Cabin          327\n",
      "Embarked         0\n",
      "dtype: int64\n"
     ]
    }
   ],
   "source": [
    "print(\"학습용 데이터 null 값: \\n\", train_data.isnull().sum())\n",
    "print()\n",
    "print(\"데스트용 데이터 null 값 :\\n\", test_data.isnull().sum())"
   ]
  },
  {
   "cell_type": "markdown",
   "id": "acfbca39-25d0-418f-9433-7898b46eb9bb",
   "metadata": {},
   "source": [
    " - train 데이터 null = Age : 177건, Cabin : 687건, Embarked : 2건\n",
    " - test 데이터 null = Age : 86건, Cabin : 327건 Fare : 1건"
   ]
  },
  {
   "cell_type": "code",
   "execution_count": 99,
   "id": "434f7356-c182-4a88-8ed5-fc4af9a8e200",
   "metadata": {},
   "outputs": [
    {
     "name": "stdout",
     "output_type": "stream",
     "text": [
      "<class 'pandas.core.frame.DataFrame'>\n",
      "RangeIndex: 891 entries, 0 to 890\n",
      "Data columns (total 12 columns):\n",
      " #   Column       Non-Null Count  Dtype  \n",
      "---  ------       --------------  -----  \n",
      " 0   PassengerId  891 non-null    int64  \n",
      " 1   Survived     891 non-null    int64  \n",
      " 2   Pclass       891 non-null    int64  \n",
      " 3   Name         891 non-null    object \n",
      " 4   Sex          891 non-null    object \n",
      " 5   Age          891 non-null    float64\n",
      " 6   SibSp        891 non-null    int64  \n",
      " 7   Parch        891 non-null    int64  \n",
      " 8   Ticket       891 non-null    object \n",
      " 9   Fare         891 non-null    float64\n",
      " 10  Cabin        204 non-null    object \n",
      " 11  Embarked     889 non-null    object \n",
      "dtypes: float64(2), int64(5), object(5)\n",
      "memory usage: 83.7+ KB\n",
      "None\n",
      "<class 'pandas.core.frame.DataFrame'>\n",
      "RangeIndex: 418 entries, 0 to 417\n",
      "Data columns (total 11 columns):\n",
      " #   Column       Non-Null Count  Dtype  \n",
      "---  ------       --------------  -----  \n",
      " 0   PassengerId  418 non-null    int64  \n",
      " 1   Pclass       418 non-null    int64  \n",
      " 2   Name         418 non-null    object \n",
      " 3   Sex          418 non-null    object \n",
      " 4   Age          418 non-null    float64\n",
      " 5   SibSp        418 non-null    int64  \n",
      " 6   Parch        418 non-null    int64  \n",
      " 7   Ticket       418 non-null    object \n",
      " 8   Fare         418 non-null    float64\n",
      " 9   Cabin        91 non-null     object \n",
      " 10  Embarked     418 non-null    object \n",
      "dtypes: float64(2), int64(4), object(5)\n",
      "memory usage: 36.1+ KB\n",
      "None\n"
     ]
    }
   ],
   "source": [
    "# train_data 전처리\n",
    "\n",
    "# 나이는 평균 나이(23세)로 대치\n",
    "Age_avg = train_data['Age'].sum() / len(train_data.Age)\n",
    "Age_avg.astype(int)\n",
    "train_data['Age'] = train_data['Age'].fillna(23)\n",
    "\n",
    "# test_data 전처리\n",
    "Age_avg_test = test_data['Age'].sum() / len(test_data.Age) # 24세\n",
    "test_data['Age'] = test_data['Age'].fillna(24)\n",
    "test_data['Fare'].sum() / len(test_data['Fare']) #35.54\n",
    "test_data['Fare'] = test_data['Fare'].fillna(35.54)\n",
    "\n",
    "print(train_data.info())\n",
    "print(test_data.info())"
   ]
  },
  {
   "cell_type": "markdown",
   "id": "d0148b4d-acbe-40a4-9b38-7839ef1a036e",
   "metadata": {},
   "source": [
    " - train_data 및 test_data 의 Age 및 Fare 널 값을 평균 값으로 대치 나머지 널 값은 사용하지 않음"
   ]
  },
  {
   "cell_type": "code",
   "execution_count": 216,
   "id": "28d43e84-056c-4ce0-a69a-aba51f1b0054",
   "metadata": {},
   "outputs": [],
   "source": [
    "# replace 메서드를 사용하여 남성은 0, 여성을 1로 변환\n",
    "train_data['Sex'] = train_data['Sex'].replace({'male' : 0, 'female' : 1})\n",
    "test_data['Sex'] = test_data['Sex'].replace({'male' : 0, 'female' : 1})\n",
    "\n",
    "# 모델 예측에 필요한 features만 바인딩\n",
    "# X : 학습용 features 바인딩 (Pcalss, Sex, Age, Fare)\n",
    "# y : target인 Survived 바인딩\n",
    "X_train = train_data.loc[: ,['Pclass', 'Sex', 'Age', 'Fare']]\n",
    "y_train = train_data['Survived']\n",
    "\n",
    "# 모델 예측에 필요한 features만 바인\n",
    "X_test = test_data.loc[:, ['Pclass', 'Sex', 'Age', 'Fare']]"
   ]
  },
  {
   "cell_type": "code",
   "execution_count": 232,
   "id": "c8978812-f1e2-451a-b2fa-6a7c82cf405f",
   "metadata": {},
   "outputs": [
    {
     "name": "stdout",
     "output_type": "stream",
     "text": [
      "#### 평균 ####\n",
      "학습용 데이터의 평균 : \n",
      " Pclass     2.308642\n",
      "Sex        0.352413\n",
      "Age       28.368316\n",
      "Fare      32.204208\n",
      "dtype: float64\n",
      "\n",
      "테스트용 데이터의 평균 : \n",
      " Pclass     2.265550\n",
      "Sex        0.363636\n",
      "Age       28.982057\n",
      "Fare      35.626980\n",
      "dtype: float64\n",
      "#### 분산 ####\n",
      "학습용 데이터의 분산 : \n",
      " Pclass       0.699015\n",
      "Sex          0.228475\n",
      "Age        176.204589\n",
      "Fare      2469.436846\n",
      "dtype: float64\n",
      "\n",
      "테스트용 데이터의 분산 : \n",
      " Pclass       0.708690\n",
      "Sex          0.231960\n",
      "Age        166.076381\n",
      "Fare      3118.161512\n",
      "dtype: float64\n"
     ]
    }
   ],
   "source": [
    "# 학습용 데이터 와 테스트 데이터 features들의 평균 값 확인\n",
    "print('#### 평균 ####')\n",
    "print('학습용 데이터의 평균 : \\n', X_train.mean())\n",
    "print()\n",
    "print('테스트용 데이터의 평균 : \\n', X_test.mean())\n",
    "\n",
    "#학습용 데이터 와 테스트 데이터 features들의 분산 값 확인\n",
    "print('#### 분산 ####')\n",
    "print('학습용 데이터의 분산 : \\n', X_train.var())\n",
    "print()\n",
    "print('테스트용 데이터의 분산 : \\n', X_test.var())"
   ]
  },
  {
   "cell_type": "markdown",
   "id": "7d7f9fd3-69e3-4961-b85f-e99f62fe0f0a",
   "metadata": {},
   "source": [
    "## 데이터 표준화\n",
    "\n",
    " -  표준을 0, 분산을 1로 변환 시킴"
   ]
  },
  {
   "cell_type": "code",
   "execution_count": 234,
   "id": "4559dd24-987c-4c1f-8ed6-d09b008bb7c5",
   "metadata": {},
   "outputs": [],
   "source": [
    "# 학습 데이터 표준화 작업 fit and transform\n",
    "scaler = MinMaxScaler()\n",
    "scaler.fit(X_train)\n",
    "X_train_scaler = scaler.transform(X_train)\n",
    "X_train= pd.DataFrame(data=X_train_scaler, columns=['Pclass', 'Sex', 'Age', 'Fare'])\n",
    "\n",
    "# 테스트 데이터 표준화 작업 transform만 적용\n",
    "X_test_scaler = scaler.transform(X_test)\n",
    "X_test = pd.DataFrame(data=X_test_scaler, columns=['Pclass', 'Sex', 'Age', 'Fare'])"
   ]
  },
  {
   "cell_type": "markdown",
   "id": "f15ca509-9bd9-4124-8322-e7f75fd2f795",
   "metadata": {},
   "source": [
    "##\n",
    "# 모델 학습 및 검증"
   ]
  },
  {
   "cell_type": "code",
   "execution_count": 314,
   "id": "7c08699a-788d-46ad-bc6a-b55fcbef0ff8",
   "metadata": {},
   "outputs": [],
   "source": [
    "# 검증용 \n",
    "from sklearn.model_selection import KFold\n",
    "from sklearn.model_selection import cross_val_score\n",
    "\n",
    "kf = KFold(n_splits=10, shuffle=True, random_state=159)\n",
    "\n",
    "def scoring_func(clf):\n",
    "    scoring = 'accuracy'\n",
    "    score = cross_val_score(clf, X_train, y_train, cv=kf, n_jobs=1, scoring=scoring)\n",
    "    print('평균 정확도 :', round(np.mean(score)*100, 2), '%')"
   ]
  },
  {
   "cell_type": "code",
   "execution_count": 320,
   "id": "18b360d0-a671-410b-aecd-28f88434e73a",
   "metadata": {},
   "outputs": [
    {
     "name": "stdout",
     "output_type": "stream",
     "text": [
      "램덤포레스트\n",
      "평균 정확도 : 84.4 %\n",
      "의사결정나무\n",
      "평균 정확도 : 79.91 %\n",
      "로지스틱회귀\n",
      "평균 정확도 : 78.56 %\n"
     ]
    }
   ],
   "source": [
    "from sklearn.ensemble import RandomForestClassifier\n",
    "from sklearn.tree import DecisionTreeClassifier\n",
    "from sklearn.linear_model import LogisticRegression\n",
    "\n",
    "rmf_clf = RandomForestClassifier(n_estimators=100, max_depth=8)\n",
    "print('램덤포레스트'); scoring_func(rmf_clf)\n",
    "\n",
    "dit_clf = DecisionTreeClassifier()\n",
    "print('의사결정나무'); scoring_func(dit_clf)\n",
    "\n",
    "lcr_reg = LogisticRegression()\n",
    "print('로지스틱회귀'); scoring_func(lcr_reg)"
   ]
  },
  {
   "cell_type": "code",
   "execution_count": 353,
   "id": "f6754d94-a21e-4893-ad0b-4832c9791720",
   "metadata": {},
   "outputs": [],
   "source": [
    "rmf_clf = RandomForestClassifier(n_estimators=100, max_depth=8, random_state=159)\n",
    "rmf_clf.fit(X_train, y_train)\n",
    "prediction = rmf_clf.predict(X_test)\n",
    "result = pd.DataFrame({'PassengerId' : test_data.PassengerId, 'Survived' : prediction})\n",
    "result.to_csv('submission.csv', index=False)"
   ]
  }
 ],
 "metadata": {
  "kernelspec": {
   "display_name": "Python 3 (ipykernel)",
   "language": "python",
   "name": "python3"
  },
  "language_info": {
   "codemirror_mode": {
    "name": "ipython",
    "version": 3
   },
   "file_extension": ".py",
   "mimetype": "text/x-python",
   "name": "python",
   "nbconvert_exporter": "python",
   "pygments_lexer": "ipython3",
   "version": "3.11.7"
  }
 },
 "nbformat": 4,
 "nbformat_minor": 5
}
